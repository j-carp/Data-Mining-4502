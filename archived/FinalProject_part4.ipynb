{
 "cells": [
  {
   "cell_type": "markdown",
   "id": "2b8ca3e0-3dfe-42a9-9e5e-87ede9f8cddd",
   "metadata": {},
   "source": [
    "# Project Code\n",
    "## Beer Preferences Across Amercia"
   ]
  },
  {
   "cell_type": "code",
   "execution_count": 1,
   "id": "61609127",
   "metadata": {},
   "outputs": [
    {
     "ename": "ModuleNotFoundError",
     "evalue": "No module named 'plotly'",
     "output_type": "error",
     "traceback": [
      "\u001b[0;31m---------------------------------------------------------------------------\u001b[0m",
      "\u001b[0;31mModuleNotFoundError\u001b[0m                       Traceback (most recent call last)",
      "Cell \u001b[0;32mIn[1], line 5\u001b[0m\n\u001b[1;32m      3\u001b[0m \u001b[38;5;28;01mimport\u001b[39;00m \u001b[38;5;21;01mmatplotlib\u001b[39;00m\u001b[38;5;21;01m.\u001b[39;00m\u001b[38;5;21;01mpyplot\u001b[39;00m \u001b[38;5;28;01mas\u001b[39;00m \u001b[38;5;21;01mplt\u001b[39;00m\n\u001b[1;32m      4\u001b[0m get_ipython()\u001b[38;5;241m.\u001b[39mrun_line_magic(\u001b[38;5;124m'\u001b[39m\u001b[38;5;124mmatplotlib\u001b[39m\u001b[38;5;124m'\u001b[39m, \u001b[38;5;124m'\u001b[39m\u001b[38;5;124minline\u001b[39m\u001b[38;5;124m'\u001b[39m)\n\u001b[0;32m----> 5\u001b[0m \u001b[38;5;28;01mimport\u001b[39;00m \u001b[38;5;21;01mplotly\u001b[39;00m\u001b[38;5;21;01m.\u001b[39;00m\u001b[38;5;21;01mgraph_objs\u001b[39;00m \u001b[38;5;28;01mas\u001b[39;00m \u001b[38;5;21;01mgo\u001b[39;00m\n\u001b[1;32m      6\u001b[0m \u001b[38;5;28;01mimport\u001b[39;00m \u001b[38;5;21;01mplotly\u001b[39;00m \u001b[38;5;28;01mas\u001b[39;00m \u001b[38;5;21;01mpy\u001b[39;00m\n\u001b[1;32m      7\u001b[0m \u001b[38;5;28;01mimport\u001b[39;00m \u001b[38;5;21;01mplotly\u001b[39;00m\u001b[38;5;21;01m.\u001b[39;00m\u001b[38;5;21;01mfigure_factory\u001b[39;00m \u001b[38;5;28;01mas\u001b[39;00m \u001b[38;5;21;01mff\u001b[39;00m\n",
      "\u001b[0;31mModuleNotFoundError\u001b[0m: No module named 'plotly'"
     ]
    }
   ],
   "source": [
    "import pandas as pd\n",
    "import seaborn as sns\n",
    "import matplotlib.pyplot as plt\n",
    "%matplotlib inline\n",
    "import plotly.graph_objs as go\n",
    "import plotly as py\n",
    "import plotly.figure_factory as ff\n",
    "from sklearn.linear_model import LinearRegression\n",
    "from sklearn.metrics import mean_squared_error\n",
    "import hvplot.pandas\n",
    "from sklearn.cluster import KMeans\n",
    "from sklearn.preprocessing import StandardScaler\n"
   ]
  },
  {
   "cell_type": "code",
   "execution_count": null,
   "id": "2ade1d8b",
   "metadata": {},
   "outputs": [],
   "source": [
    "import numpy as np\n",
    "import warnings\n",
    "warnings.simplefilter(\"ignore\")"
   ]
  },
  {
   "cell_type": "code",
   "execution_count": null,
   "id": "3ae5bb68",
   "metadata": {},
   "outputs": [],
   "source": [
    "data = pd.read_csv(\"beer_reviews.csv\")"
   ]
  },
  {
   "cell_type": "code",
   "execution_count": null,
   "id": "15bc2def",
   "metadata": {},
   "outputs": [],
   "source": [
    "data.head(10)"
   ]
  },
  {
   "cell_type": "code",
   "execution_count": null,
   "id": "6751bd6f",
   "metadata": {},
   "outputs": [],
   "source": [
    "print(data.info())\n",
    "print('-'*50)\n",
    "print(data.isna().sum())"
   ]
  },
  {
   "cell_type": "code",
   "execution_count": null,
   "id": "03a47ada",
   "metadata": {},
   "outputs": [],
   "source": [
    "data['brewery_name'].fillna('unknown', inplace=True)\n",
    "data['beer_abv'].fillna(data['beer_abv'].mean(), inplace=True)\n",
    "\n",
    "data = data.drop([\"brewery_id\"], axis=1)\n",
    "data = data.drop([\"review_time\"], axis=1)\n",
    "data = data.drop([\"review_profilename\"], axis=1)\n",
    "data = data.drop([\"beer_beerid\"], axis=1)\n",
    "print(data.isna().sum())"
   ]
  },
  {
   "cell_type": "code",
   "execution_count": null,
   "id": "6431e0fe",
   "metadata": {},
   "outputs": [],
   "source": [
    "Top_beer_ratings = data[['beer_name','review_overall']].groupby('beer_name').review_overall.agg('mean').sort_values(ascending = False)\n",
    "Top_beer_ratings = Top_beer_ratings.iloc[0:20]\n",
    "Top_beer_ratings.reset_index()"
   ]
  },
  {
   "cell_type": "code",
   "execution_count": null,
   "id": "3bc86554",
   "metadata": {},
   "outputs": [],
   "source": [
    "Top_rating_beer_styles = data[['beer_style','review_overall']].groupby('beer_style').review_overall.agg('mean').sort_values(ascending = False).iloc[0:20]\n",
    "Top_rating_beer_styles = pd.DataFrame(Top_rating_beer_styles)\n",
    "Top_rating_beer_styles.reset_index()"
   ]
  },
  {
   "cell_type": "code",
   "execution_count": null,
   "id": "9454d3da",
   "metadata": {},
   "outputs": [],
   "source": [
    "beers_looks_smell = data[['beer_name', 'review_aroma','review_appearance','review_taste']]\n",
    "beer_looks_smell = beers_looks_smell.groupby('beer_name').aggregate(['max'])\n",
    "beer_looks_smell = beers_looks_smell.sort_values(by = ['review_aroma','review_appearance','review_taste'],ascending = False)\n",
    "beers_looks_smell.iloc[0:20]"
   ]
  },
  {
   "cell_type": "code",
   "execution_count": null,
   "id": "e4f39c64",
   "metadata": {},
   "outputs": [],
   "source": [
    "top_ratings_taste = data[['brewery_name','beer_name','review_overall','review_taste']]\n",
    "top_ratings_taste = top_ratings_taste.groupby(['brewery_name','beer_name']).aggregate(['mean'])\n",
    "top_ratings_taste.reset_index()\n",
    "top_ratings_taste.iloc[0:20]"
   ]
  },
  {
   "cell_type": "code",
   "execution_count": null,
   "id": "aa14d5ed",
   "metadata": {},
   "outputs": [],
   "source": [
    "data.loc[ data[ 'beer_abv' ] > 30 ] \\\n",
    "    .sort_values( by = [ 'beer_abv' ], ascending = False )[ [ 'brewery_name', 'beer_name', 'beer_abv' ] ]"
   ]
  },
  {
   "cell_type": "code",
   "execution_count": null,
   "id": "ad5c6f98",
   "metadata": {},
   "outputs": [],
   "source": [
    "linear_model = LinearRegression()\n",
    "\n",
    "linear_model.fit( X = data[ [ 'review_aroma', 'review_appearance', 'review_palate', 'review_taste' ] ], y = data[ 'review_overall' ] )\n",
    "preds = linear_model.predict(data[ [ 'review_aroma', 'review_appearance', 'review_palate', 'review_taste' ] ] )\n",
    "linear_model.coef_"
   ]
  },
  {
   "cell_type": "code",
   "execution_count": null,
   "id": "ebc0f452",
   "metadata": {},
   "outputs": [],
   "source": [
    "data = data[['brewery_name', 'beer_style', 'beer_name', 'beer_abv', 'review_appearance', \n",
    "             'review_aroma', 'review_palate', 'review_taste', 'review_overall']]\n",
    "data = data.sort_values(by=['brewery_name', 'beer_style', 'beer_name' , 'beer_abv', 'review_overall'])\n",
    "data = data.reset_index()\n",
    "data = data.drop([\"index\"], axis=1)"
   ]
  },
  {
   "cell_type": "code",
   "execution_count": null,
   "id": "104a3131",
   "metadata": {},
   "outputs": [],
   "source": [
    "data['review_average'] = data.apply(lambda row: (row[\"review_overall\"] + row[\"review_aroma\"] + \n",
    "                                                 row[\"review_appearance\"] + row[\"review_palate\"] + \n",
    "                                                 row[\"review_taste\"]) / 5, axis=1)\n",
    "\n",
    "data = data.drop(data[(data[\"review_average\"] < 1) | (data[\"review_average\"] > 5)].index)"
   ]
  },
  {
   "cell_type": "code",
   "execution_count": null,
   "id": "6509e6a8",
   "metadata": {},
   "outputs": [],
   "source": [
    "# Calculate average rating by beer style\n",
    "avg_rating_by_style = data.groupby('beer_style')['review_overall'].mean().reset_index()\n",
    "\n",
    "\n",
    "# Sort by average rating in descending order\n",
    "avg_rating_by_style = avg_rating_by_style.sort_values(by='review_overall', ascending=False)\n",
    "\n",
    "# Create bar plot using hvplot\n",
    "bar_plot = avg_rating_by_style.hvplot.bar(x='beer_style', y='review_overall', \n",
    "                                          title='Average Ratings by Beer Style', \n",
    "                                          xlabel='Beer Style', ylabel='Average Rating',\n",
    "                                          height=600,width=900, rot=90, \n",
    "                                          tools=['hover'])\n",
    "\n",
    "# Show the plot\n",
    "bar_plot"
   ]
  },
  {
   "cell_type": "code",
   "execution_count": null,
   "id": "48892684",
   "metadata": {},
   "outputs": [],
   "source": [
    "def visualization_function_1(name, condition, ax_left, ax_right):\n",
    "    \n",
    "    unique_names = data[name].unique()\n",
    "    length = len(unique_names)\n",
    "    rev_aver = np.zeros(length)\n",
    "    rev_taste = np.zeros(length)\n",
    "    count = np.zeros(length, dtype=np.int32)\n",
    "    \n",
    "    for _, row in data.iterrows():\n",
    "        idx = np.where(unique_names == row[name])\n",
    "        rev_aver[idx] += row[\"review_appearance\"]\n",
    "        rev_taste[idx] += row[\"review_taste\"]\n",
    "        count[idx] += 1\n",
    "        \n",
    "  \n",
    "    for i in range(length):\n",
    "        if count[i] > condition:\n",
    "            rev_aver[i] /= count[i]\n",
    "            rev_taste[i] /= count[i]\n",
    "        else:\n",
    "            rev_aver[i] = 1\n",
    "            rev_taste[i] = 1\n",
    "            \n",
    "    zipped_left  = sorted(zip(unique_names, rev_aver), key=lambda x: x[1], reverse=True)\n",
    "    names_left   = [zipped_left[i][0] for i in range(length)]\n",
    "    sorted_score = [zipped_left[i][1] for i in range(length)]\n",
    "    \n",
    "    zipped_right = sorted(zip(unique_names, rev_taste), key=lambda x: x[1], reverse=True)\n",
    "    names_right  = [zipped_right[i][0] for i in range(length)]\n",
    "    sorted_count = [zipped_right[i][1] for i in range(length)]\n",
    "    \n",
    "    sns.barplot(x = sorted_score[:15], y = names_left[:15], ax=ax_left)\n",
    "    ax_left.set_xlim(3, 5)\n",
    "    ax_left.set_xlabel(\"review_appearance\")\n",
    "    # limit the length of names\n",
    "    ax_left.set_yticklabels([i.get_text()[:17] + \"...\" if len(i.get_text()) > 17 else i.get_text() \n",
    "                             for i in ax_left.get_yticklabels()])\n",
    "    \n",
    "    sns.barplot(x = sorted_count[:15], y = names_right[:15], ax=ax_right).set_title(name)\n",
    "    ax_right.set_xlabel(\"review_taste\")\n",
    "    # limit the length of names\n",
    "    ax_right.set_yticklabels([i.get_text()[:17] + \"...\" if len(i.get_text()) > 17 else i.get_text() \n",
    "                              for i in ax_right.get_yticklabels()])\n",
    "\n",
    "sns.set(rc={\"axes.grid\": True})\n",
    "fig, axs = plt.subplots(ncols=2, nrows=1, figsize=[16, 24])\n",
    "fig.subplots_adjust(wspace=0.4)\n",
    "\n",
    "visualization_function_1(\"beer_style\", 5, axs[0], axs[1])\n",
    "# visualization_function_1(\"beer_style\", 5, axs[1, 0], axs[1, 1])\n",
    "# visualization_function_1(\"beer_name\", 5, axs[2, 0], axs[2, 1])\n",
    "\n",
    "axs[0].set_title(\"The best appearance Beer Style\")\n",
    "axs[1].set_title(\"The best taste Beer Style\")\n",
    "\n",
    "# axs[1, 0].set_title(\"The best styles of beer\")\n",
    "# axs[1, 1].set_title(\"The most popular styles of beer\")\n",
    "\n",
    "# axs[2, 0].set_title(\"The best quality beer\")\n",
    "# axs[2, 1].set_title(\"The most popular beer\");"
   ]
  },
  {
   "cell_type": "code",
   "execution_count": null,
   "id": "91c7210e",
   "metadata": {},
   "outputs": [],
   "source": [
    "# we look at the hist of some reviews\n",
    "\n",
    "# data = data.drop(data[data[\"beer_abv\"] > 20].index)\n",
    "\n",
    "sns.set(rc={\"axes.grid\": True})\n",
    "fig, axs = plt.subplots(nrows=2, figsize=[16, 12])\n",
    "plt.setp(axs, xticks=range(0, 21, 2))\n",
    "\n",
    "sns.distplot(data[\"review_aroma\"], bins=50, ax=axs[0], kde=False, color=\"m\")\n",
    "sns.kdeplot(data[\"review_aroma\"], ax=axs[1], color=\"m\", label=\"Original distribution\")\n",
    "sns.kdeplot(data[\"review_aroma\"], ax=axs[1], color=\"r\", bw=0.3, shade=True, label=\"Smoothed distribution\")\n",
    "\n",
    "axs[0].set_xlim(0, 6)\n",
    "axs[0].set_ylabel(\"Total number of drinks\")\n",
    "\n",
    "axs[1].set_xlim(0, 6)\n",
    "axs[1].set_xlabel(\"review_aroma\")\n",
    "axs[1].set_ylabel(\"Distribution\");"
   ]
  },
  {
   "cell_type": "code",
   "execution_count": null,
   "id": "3dd9d80a",
   "metadata": {},
   "outputs": [],
   "source": [
    "# Use only unique beers and breweries for aggregate stats\n",
    "abv = data[['beer_name','brewery_name','beer_abv']]\\\n",
    "    .drop_duplicates(['beer_name','brewery_name'])\\\n",
    "    .pivot_table(index=\"brewery_name\", aggfunc=(\"count\",'mean','median'))\n",
    "\n",
    "# Adjust column names\n",
    "abv.columns = abv.columns.to_series().str.join('_')\n",
    "\n",
    "# Reset index\n",
    "abv.reset_index(inplace=True)\n",
    "\n",
    "# Rename column\n",
    "abv.rename(columns={'beer_abv_count':'beer_count'}, inplace=True)\n",
    "\n",
    "# Filter for breweries with at least 4 unique beers\n",
    "abv_filtered_mean = abv.query('beer_count >= 4')\\\n",
    "    .sort_values('beer_abv_mean', ascending=False)\\\n",
    "    .head(20)\\\n",
    "    .sort_values('beer_abv_mean', ascending=True)\n",
    "\n",
    "# Plot it\n",
    "p1 = [go.Bar(x = abv_filtered_mean['beer_abv_mean'] / 100,\n",
    "             y = abv_filtered_mean['brewery_name'],\n",
    "             text=abv_filtered_mean['beer_abv_mean'].round(1),\n",
    "             hoverinfo='x',\n",
    "             textposition = 'inside',\n",
    "             orientation = 'h',\n",
    "             opacity=0.7, \n",
    "             marker=dict(\n",
    "                color='rgb(1, 87, 155)'))]\n",
    "\n",
    "# Pieces of Flair\n",
    "layout = go.Layout(title='Top 20 Breweries by Highest Mean ABV',\n",
    "                   xaxis=dict(title=\"Mean ABV\",\n",
    "                              tickformat='%',\n",
    "                              hoverformat = '.2%'),\n",
    "                   margin = dict(l = 230),\n",
    "                   font=dict(family='Courier New, monospace',\n",
    "                            color='dark gray'))\n",
    "\n",
    "fig = go.Figure(data=p1, layout=layout)\n",
    "\n",
    "# Plot it\n",
    "py.offline.iplot(fig)"
   ]
  },
  {
   "cell_type": "code",
   "execution_count": null,
   "id": "dc422b1c",
   "metadata": {},
   "outputs": [],
   "source": [
    "factors = [\"review_appearance\",\"review_aroma\",\"review_palate\",\"review_taste\", \"review_overall\", \"review_average\"]\n",
    "\n",
    "# Create a correlation matrix \n",
    "corr_metrics = data[factors].corr()\n",
    "corr_metrics.style.background_gradient(cmap='Reds')"
   ]
  },
  {
   "cell_type": "code",
   "execution_count": null,
   "id": "47269d83",
   "metadata": {},
   "outputs": [],
   "source": [
    "# Method 2 - Heatmap: Plotly\n",
    "heat_map_plotly = ff.create_annotated_heatmap(\n",
    "    z=corr_metrics.values,\n",
    "    x=list(corr_metrics.columns),\n",
    "    y=list(corr_metrics.index),\n",
    "    annotation_text=corr_metrics.round(2).values,\n",
    "    showscale=True,\n",
    "    colorscale='Portland',\n",
    "    font_colors=['white','white'])\n",
    "\n",
    "layout = go.Layout(title=\"Correlation Heatmap\",\n",
    "                   margin = dict(l = 330))\n",
    "\n",
    "fig = go.Figure(data=heat_map_plotly, layout=layout)\n",
    "py.offline.iplot(fig)"
   ]
  },
  {
   "cell_type": "code",
   "execution_count": null,
   "id": "642e8288",
   "metadata": {},
   "outputs": [],
   "source": [
    "data1 = data[['review_aroma','review_overall']]\n",
    "beer_measures = data1.values\n",
    "X = StandardScaler().fit_transform(beer_measures)\n"
   ]
  },
  {
   "cell_type": "code",
   "execution_count": null,
   "id": "89bad6af",
   "metadata": {},
   "outputs": [],
   "source": [
    "# Calculate k-means fit for all Ks from 1 to 20.\n",
    "k = range(1, 20)\n",
    "kmeans = [KMeans(n_clusters=i) for i in k]\n",
    "score = [kmeans[i].fit(X).score(X) for i in range(len(kmeans))]\n",
    "\n",
    "# Plot the k-means score (percent variance explained) for each K.\n",
    "fig = plt.figure(figsize=(16, 6))\n",
    "plt.plot(k, score, '-o')\n",
    "plt.xlabel('K Clusters')\n",
    "plt.ylabel('Score')\n",
    "plt.title('Elbow Curve');"
   ]
  },
  {
   "cell_type": "code",
   "execution_count": null,
   "id": "2c3a8aaf-41a1-4459-b56e-1b6f98c2ef73",
   "metadata": {},
   "outputs": [],
   "source": [
    "# classification model \n",
    "# categorize beers into quality levels based on the overall rating\n",
    "# use random forest classifier\n",
    "\n",
    "# define target variable (quality levels) and features\n",
    "target = \"quality\"\n",
    "features = [\"review_aroma\", \"review_appearance\", \"review_palate\", \"review_taste\", \"beer_abv\"]\n",
    "\n",
    "# create target variable based on overall rating\n",
    "data[\"quality\"] = pd.cut(data[\"review_overall\"], bins=[0, 2.5, 3.5, 5], labels=[\"Low\", \"Medium\", \"High\"])\n",
    "\n",
    "# split data into training and testing sets\n",
    "X = data[features]\n",
    "y = data[target]\n",
    "X_train, X_test, y_train, y_test = train_test_split(X, y, test_size=0.2, random_state=42)\n",
    "\n",
    "# create and train the Random Forest Classifier\n",
    "rf_classifier = RandomForestClassifier(n_estimators=100, random_state=42)\n",
    "rf_classifier.fit(X_train, y_train)\n",
    "\n",
    "# make predictions with test set\n",
    "y_pred = rf_classifier.predict(X_test)\n",
    "\n",
    "# evaluate performance\n",
    "accuracy = accuracy_score(y_test, y_pred)\n",
    "classification_rep = classification_report(y_test, y_pred)\n",
    "\n",
    "print(\"Accuracy:\", accuracy)\n",
    "print(\"Classification Report:\\n\", classification_rep)\n",
    "\n",
    "# visualize the decision tree\n",
    "# get the first decision tree in the Random Forest\n",
    "first_tree = rf_classifier.estimators_[0]\n",
    "\n",
    "dot_data = tree.export_graphviz(first_tree, out_file=None, \n",
    "                                feature_names=features, class_names=rf_classifier.classes_,\n",
    "                                filled=True, rounded=True, special_characters=True, max_depth=3, rotate=True)  \n",
    "graph = graphviz.Source(dot_data)  \n",
    "# save the tree visualization as PDF for viewing\n",
    "graph.render('random_forest_tree')  "
   ]
  },
  {
   "cell_type": "code",
   "execution_count": null,
   "id": "7a4c2a79-44fe-47a8-8fff-1218fd6a433a",
   "metadata": {},
   "outputs": [],
   "source": [
    "# user recomendation model \n",
    "# recomends a brewery based on preferences\n",
    "\n",
    "# use a different test/train for this model\n",
    "from surprise.model_selection import train_test_split\n",
    "\n",
    "# take the average of multiple reviews for the same user and item\n",
    "data = data.groupby(['brewery_name', 'beer_name']).mean().reset_index()\n",
    "\n",
    "# convert 'beer_abv' column to numeric values\n",
    "data['beer_abv'] = pd.to_numeric(data['beer_abv'], errors='coerce')\n",
    "\n",
    "# drop rows with missing 'beer_abv' values\n",
    "data.dropna(subset=['beer_abv'], inplace=True)\n",
    "\n",
    "# convert 'brewery_name' and 'beer_name' columns to numeric identifiers\n",
    "data['brewery_id'] = pd.factorize(data['brewery_name'])[0]\n",
    "data['beer_id'] = pd.factorize(data['beer_name'])[0]\n",
    "\n",
    "# prepare data for Surprise library\n",
    "reader = Reader(rating_scale=(1, 5))\n",
    "beer_ratings = Dataset.load_from_df(data[['brewery_id', 'beer_id', 'review_overall']], reader)\n",
    "\n",
    "# split the data into training and testing sets\n",
    "trainset, testset = train_test_split(beer_ratings, test_size=0.2, random_state=42)\n",
    "\n",
    "# create and train the user-based collaborative filtering model\n",
    "sim_options = {'name': 'cosine', 'user_based': True, 'verbose': False}\n",
    "model = KNNBasic(sim_options=sim_options)\n",
    "model.fit(trainset)\n",
    "\n",
    "# function to get top N brewery recommendations for a user\n",
    "def get_top_n_recommendations(user_id, n=10):\n",
    "    user_brewery_ratings = [(brewery, model.predict(user_id, brewery).est) for brewery in data['brewery_id'].unique()]\n",
    "    user_brewery_ratings.sort(key=lambda x: x[1], reverse=True)\n",
    "    top_n_breweries = [brewery[0] for brewery in user_brewery_ratings[:n]]\n",
    "    top_brewery_names = data[data['brewery_id'].isin(top_n_breweries)]['brewery_name'].unique()\n",
    "    return top_brewery_names\n",
    "\n",
    "# example usage: get top 5 brewery recommendations for a user with user_id 0\n",
    "user_id = 0\n",
    "top_breweries = get_top_n_recommendations(user_id, n=5)\n",
    "print(f\"Top Brewery Recommendations for user {user_id}:\")\n",
    "for i, brewery in enumerate(top_breweries, 1):\n",
    "    print(f\"{i}. {brewery}\")"
   ]
  },
  {
   "cell_type": "code",
   "execution_count": null,
   "id": "f737f3a6-8fe9-485d-ad72-0c51bd655e83",
   "metadata": {},
   "outputs": [],
   "source": []
  },
  {
   "cell_type": "code",
   "execution_count": null,
   "id": "6da5302b-b059-4b74-a09e-de5797aed5b9",
   "metadata": {},
   "outputs": [],
   "source": []
  },
  {
   "cell_type": "code",
   "execution_count": null,
   "id": "300fa82a-d050-4275-a16b-5f97a0dc5845",
   "metadata": {},
   "outputs": [],
   "source": []
  }
 ],
 "metadata": {
  "kernelspec": {
   "display_name": "Python 3 (ipykernel)",
   "language": "python",
   "name": "python3"
  },
  "language_info": {
   "codemirror_mode": {
    "name": "ipython",
    "version": 3
   },
   "file_extension": ".py",
   "mimetype": "text/x-python",
   "name": "python",
   "nbconvert_exporter": "python",
   "pygments_lexer": "ipython3",
   "version": "3.10.8"
  }
 },
 "nbformat": 4,
 "nbformat_minor": 5
}
